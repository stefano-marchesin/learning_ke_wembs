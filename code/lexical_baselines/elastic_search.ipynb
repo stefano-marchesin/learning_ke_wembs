{
 "cells": [
  {
   "cell_type": "code",
   "execution_count": null,
   "metadata": {},
   "outputs": [],
   "source": [
    "from elasticsearch import Elasticsearch\n",
    "from whoosh.analysis import SimpleAnalyzer\n",
    "\n",
    "from es_utils.utils import *\n",
    "from es_utils.index import *"
   ]
  },
  {
   "cell_type": "code",
   "execution_count": null,
   "metadata": {},
   "outputs": [],
   "source": [
    "# connect to ElasticSearch server\n",
    "es = Elasticsearch([{'host':'localhost', 'port':9200}])"
   ]
  },
  {
   "cell_type": "code",
   "execution_count": null,
   "metadata": {},
   "outputs": [],
   "source": [
    "# delete index if required\n",
    "if es.indices.exists(index='ohsu_elastic'):\n",
    "    print('delete index')\n",
    "    res = es.indices.delete(index='ohsu_elastic')\n",
    "else:\n",
    "    print('index does not exists!')"
   ]
  },
  {
   "cell_type": "code",
   "execution_count": null,
   "metadata": {},
   "outputs": [],
   "source": [
    "# set Index instance\n",
    "ix = Index()"
   ]
  },
  {
   "cell_type": "code",
   "execution_count": null,
   "metadata": {
    "scrolled": true
   },
   "outputs": [],
   "source": [
    "# index collection\n",
    "corpus_path = \"\"  # path to corpus folder\n",
    "ix.index_corpus(corpus_path)"
   ]
  },
  {
   "cell_type": "code",
   "execution_count": null,
   "metadata": {},
   "outputs": [],
   "source": [
    "# read queries\n",
    "query_path = \"\"  # path to query file\n",
    "ohsu_queries = read_ohsu_queries(query_path)"
   ]
  },
  {
   "cell_type": "code",
   "execution_count": null,
   "metadata": {},
   "outputs": [],
   "source": [
    "# set qrels folder path and qrels filenmae (w/o file extension - requires .txt extension)\n",
    "qrels_folder = \"\"\n",
    "qrels_name = \"\""
   ]
  },
  {
   "cell_type": "code",
   "execution_count": null,
   "metadata": {},
   "outputs": [],
   "source": [
    "# set rankings folder\n",
    "rankings_folder = \"\""
   ]
  },
  {
   "cell_type": "code",
   "execution_count": null,
   "metadata": {},
   "outputs": [],
   "source": [
    "# change model in BM25\n",
    "ix.change_model(model='BM25', k2=1.2, b=0.75)"
   ]
  },
  {
   "cell_type": "code",
   "execution_count": null,
   "metadata": {},
   "outputs": [],
   "source": [
    "# search using BM25 and store run\n",
    "model_name = 'BM25_desc'\n",
    "ix.lexical_search(ohsu_queries, 'desc', \n",
    "                  rankings_folder, model_name)"
   ]
  },
  {
   "cell_type": "code",
   "execution_count": null,
   "metadata": {},
   "outputs": [],
   "source": [
    "# evaluate computed run given measures\n",
    "evaluate(['map', 'ndcg', 'P_10', 'num_rel_ret'], \n",
    "         rankings_folder, model_name, \n",
    "         qrels_folder, qrels_name)"
   ]
  },
  {
   "cell_type": "code",
   "execution_count": null,
   "metadata": {},
   "outputs": [],
   "source": [
    "# change model in QLM (Dir)\n",
    "ix.change_model(model='LMDirichlet', mu=2000)"
   ]
  },
  {
   "cell_type": "code",
   "execution_count": null,
   "metadata": {
    "scrolled": true
   },
   "outputs": [],
   "source": [
    "# search using QLM ad store run\n",
    "model_name = 'QLM_desc'\n",
    "ix.lexical_search(ohsu_queries, 'desc', \n",
    "                  rankings_folder, model_name)"
   ]
  },
  {
   "cell_type": "code",
   "execution_count": null,
   "metadata": {},
   "outputs": [],
   "source": [
    "# evaluate computed run given measures\n",
    "evaluate(['map', 'ndcg', 'P_10', 'num_rel_ret'], \n",
    "         rankings_folder, model_name, \n",
    "         qrels_folder, qrels_name)"
   ]
  },
  {
   "cell_type": "code",
   "execution_count": null,
   "metadata": {},
   "outputs": [],
   "source": []
  }
 ],
 "metadata": {
  "kernelspec": {
   "display_name": "Python 3",
   "language": "python",
   "name": "python3"
  },
  "language_info": {
   "codemirror_mode": {
    "name": "ipython",
    "version": 3
   },
   "file_extension": ".py",
   "mimetype": "text/x-python",
   "name": "python",
   "nbconvert_exporter": "python",
   "pygments_lexer": "ipython3",
   "version": "3.5.2"
  }
 },
 "nbformat": 4,
 "nbformat_minor": 2
}
